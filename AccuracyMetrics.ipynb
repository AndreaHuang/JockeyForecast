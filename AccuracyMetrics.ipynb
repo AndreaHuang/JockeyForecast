{
 "cells": [
  {
   "cell_type": "code",
   "execution_count": 28,
   "metadata": {},
   "outputs": [
    {
     "data": {
      "text/plain": [
       "Bingo\n",
       "0    220\n",
       "1    556\n",
       "2    331\n",
       "3     43\n",
       "Name: Bingo, dtype: int64"
      ]
     },
     "execution_count": 28,
     "metadata": {},
     "output_type": "execute_result"
    }
   ],
   "source": [
    "import pandas as pd\n",
    "import matplotlib.pyplot as plt\n",
    "file0 = \"/Users/apple/Workspace/intelliJ/jockey/Metric-2017-2019.csv\"\n",
    "metrics = pd.read_csv(file0)\n",
    "metrics =metrics[(metrics['Class']!=0)]# & (metrics['Class']==5)]\n",
    "metrics.groupby(['Bingo'])['Bingo'].agg('count')\n",
    "\n",
    "#\"RaceDate,SeqOfDay,Distance,Class,Going,ActualPlace,Bingo\n",
    "#plt.hist(metrics['Bingo']).plot()"
   ]
  },
  {
   "cell_type": "code",
   "execution_count": null,
   "metadata": {},
   "outputs": [],
   "source": []
  }
 ],
 "metadata": {
  "kernelspec": {
   "display_name": "Python 3",
   "language": "python",
   "name": "python3"
  },
  "language_info": {
   "codemirror_mode": {
    "name": "ipython",
    "version": 3
   },
   "file_extension": ".py",
   "mimetype": "text/x-python",
   "name": "python",
   "nbconvert_exporter": "python",
   "pygments_lexer": "ipython3",
   "version": "3.6.7"
  }
 },
 "nbformat": 4,
 "nbformat_minor": 2
}
