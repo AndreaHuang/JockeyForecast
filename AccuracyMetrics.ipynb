{
 "cells": [
  {
   "cell_type": "code",
   "execution_count": 30,
   "metadata": {},
   "outputs": [
    {
     "data": {
      "text/plain": [
       "Distance  Class  Bingo\n",
       "1000      2      0         3\n",
       "                 1         6\n",
       "          3      0         5\n",
       "                 1        25\n",
       "                 2        18\n",
       "          4      0         7\n",
       "                 1        20\n",
       "                 2        17\n",
       "                 3         4\n",
       "          5      0         4\n",
       "                 1         6\n",
       "                 2         3\n",
       "1200      1      0         4\n",
       "                 1         3\n",
       "                 2         1\n",
       "          2      0         4\n",
       "                 1        26\n",
       "                 2         8\n",
       "                 3         3\n",
       "          3      0        14\n",
       "                 1        73\n",
       "                 2        50\n",
       "                 3         7\n",
       "          4      0        40\n",
       "                 1        76\n",
       "                 2        52\n",
       "                 3         6\n",
       "          5      0        16\n",
       "                 1        18\n",
       "                 2         7\n",
       "                          ..\n",
       "1800      4      1        15\n",
       "                 2         4\n",
       "          5      0         3\n",
       "                 1        14\n",
       "                 2         7\n",
       "2000      1      1         1\n",
       "                 2         1\n",
       "                 3         1\n",
       "          2      0         1\n",
       "                 1         4\n",
       "                 2         1\n",
       "          3      0         2\n",
       "                 1         2\n",
       "                 3         1\n",
       "          4      1         3\n",
       "                 2         3\n",
       "          5      0         3\n",
       "                 1         1\n",
       "                 2         1\n",
       "2200      3      0         3\n",
       "                 1         2\n",
       "                 2         1\n",
       "          4      0         1\n",
       "                 1         4\n",
       "                 2         2\n",
       "          5      0         3\n",
       "                 1         4\n",
       "                 2         1\n",
       "2400      1      0         1\n",
       "                 3         1\n",
       "Name: Bingo, Length: 117, dtype: int64"
      ]
     },
     "execution_count": 30,
     "metadata": {},
     "output_type": "execute_result"
    }
   ],
   "source": [
    "import pandas as pd\n",
    "import matplotlib.pyplot as plt\n",
    "file0 = \"/Users/apple/Workspace/intelliJ/jockey/Metric-2017-2019.csv\"\n",
    "metrics = pd.read_csv(file0)\n",
    "metrics =metrics[(metrics['Class']!=0)]# & (metrics['Class']==5)]\n",
    "metrics.groupby(['Distance','Class','Bingo'])['Bingo'].agg('count')\n",
    "\n",
    "#\"RaceDate,SeqOfDay,Distance,Class,Going,ActualPlace,Bingo\n",
    "#plt.hist(metrics['Bingo']).plot()"
   ]
  },
  {
   "cell_type": "code",
   "execution_count": null,
   "metadata": {},
   "outputs": [],
   "source": []
  }
 ],
 "metadata": {
  "kernelspec": {
   "display_name": "Python 3",
   "language": "python",
   "name": "python3"
  },
  "language_info": {
   "codemirror_mode": {
    "name": "ipython",
    "version": 3
   },
   "file_extension": ".py",
   "mimetype": "text/x-python",
   "name": "python",
   "nbconvert_exporter": "python",
   "pygments_lexer": "ipython3",
   "version": "3.6.7"
  }
 },
 "nbformat": 4,
 "nbformat_minor": 2
}
