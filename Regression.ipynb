{
 "cells": [
  {
   "cell_type": "code",
   "execution_count": 288,
   "metadata": {},
   "outputs": [],
   "source": [
    "import pandas as pd\n",
    "import numpy as np\n",
    "from sklearn.compose import ColumnTransformer\n",
    "from sklearn.pipeline import Pipeline\n",
    "from sklearn.impute import SimpleImputer\n",
    "from sklearn.preprocessing import StandardScaler, OneHotEncoder\n",
    "from sklearn.linear_model import LinearRegression\n",
    "from sklearn.model_selection import train_test_split\n",
    "import logging\n",
    "logging.basicConfig(level=logging.DEBUG)\n",
    "import statsmodels.formula.api as sm\n",
    "#Load the data\n",
    "file0 = \"/Users/apple/Workspace/intelliJ/jockey/20181205_2_history.csv\"\n",
    "file1 = \"/Users/apple/Workspace/intelliJ/jockey/20181205_2_predict.csv\"\n",
    "dataset0 = pd.read_csv(file0)\n",
    "header= list(dataset0)\n",
    "dataset1=pd.read_csv(file1)\n",
    "\n"
   ]
  },
  {
   "cell_type": "code",
   "execution_count": 291,
   "metadata": {},
   "outputs": [
    {
     "name": "stderr",
     "output_type": "stream",
     "text": [
      "/Users/apple/miniconda3/lib/python3.6/site-packages/ipykernel_launcher.py:41: DeprecationWarning: in the future the special handling of scalars will be removed from delete and raise an error\n"
     ]
    }
   ],
   "source": [
    "allHorse = dataset0['horseId'].unique() # all horseId\n",
    "allPredict=[]\n",
    "for idx, horseId in enumerate(allHorse):\n",
    "   \n",
    "    train_dataset=dataset0[dataset0['horseId']==horseId]\n",
    "    X=train_dataset[['raceMeeting', 'raceClass','distance','course','draw','addedWeight','declaredHorseWeight','jockey']]\n",
    "    y=train_dataset[['finishTime']]\n",
    "\n",
    "    test_dataset=dataset1[dataset1['horseId']==horseId]\n",
    "    X_test=test_dataset[['raceMeeting', 'raceClass','distance','course','draw','addedWeight','declaredHorseWeight','jockey']]\n",
    "\n",
    "    X=pd.concat([X,X_test])\n",
    "\n",
    "    #y=dataset0.iloc[:,12].values #finishTime\n",
    "\n",
    "    # We create the preprocessing pipelines for both numeric and categorical data.\n",
    "    numeric_features = ['raceClass', 'distance','draw','addedWeight','declaredHorseWeight']\n",
    "    numeric_transformer = Pipeline(steps=[\n",
    "        ('imputer', SimpleImputer(strategy='median')),\n",
    "        ('scaler', StandardScaler())])\n",
    "\n",
    "    categorical_features = ['course','jockey']\n",
    "    categorical_transformer = Pipeline(steps=[\n",
    "        ('imputer', SimpleImputer(strategy='constant', fill_value='missing')),\n",
    "        ('onehot', OneHotEncoder(handle_unknown='ignore'))])\n",
    "\n",
    "    preprocessor = ColumnTransformer(\n",
    "        transformers=[\n",
    "            ('num', numeric_transformer, numeric_features),\n",
    "            ('cat', categorical_transformer, categorical_features)])\n",
    "\n",
    "\n",
    "    X_arr=preprocessor.fit_transform(X)\n",
    "    #dummy value trap\n",
    "    dummyVariableTrap=[]\n",
    "    offset = len(numeric_features) \n",
    "    for i, val in enumerate(categorical_features):\n",
    "        dummyVariableTrap.append(offset + X[val].nunique() -1)\n",
    "        offset = offset + X[val].nunique()\n",
    "\n",
    "    X_arr=np.delete(X_arr,dummyVariableTrap,1)\n",
    "\n",
    "\n",
    "    #X_new=np.append(arr=np.ones((np.size(X_arr,0),1),dtype=int),values=X_arr,axis=1)\n",
    "    #feature = [0,1,2,3,4,5,6,7,8,9,10,11,12,13,14,15,16,17,18,19]\n",
    "    #X_opt = X_new[:,feature]\n",
    "    #X_train=X_opt[:-1,:]\n",
    "    #regresssor_OLS=sm.OLS(endog=y,exog=X_train).fit()\n",
    "    #regresssor_OLS.summary()\n",
    "\n",
    "    from sklearn.metrics import r2_score\n",
    "    X_opt = X_arr\n",
    "    X_train=X_opt[:-1,:]\n",
    "    reg = LinearRegression()\n",
    "    reg.fit(X_train,y)\n",
    "    y_train=reg.predict(X_train)\n",
    "    y_train\n",
    "    score =r2_score(y, y_train) \n",
    "    score\n",
    "    X_predict=np.array([X_opt[-1,:]])\n",
    "    X_predict\n",
    "    y_predict= reg.predict(X_predict)\n",
    "    allPredict.append(y_predict[0][0])  # will print a message to the console\n",
    "\n",
    "df = pd.DataFrame(data=[allHorse,allPredict]).transpose()\n",
    "df.columns=['horseId','finishTime']\n",
    "df = df.sort_values(by=['finishTime'])\n",
    "df"
   ]
  }
 ],
 "metadata": {
  "kernelspec": {
   "display_name": "Python 3",
   "language": "python",
   "name": "python3"
  },
  "language_info": {
   "codemirror_mode": {
    "name": "ipython",
    "version": 3
   },
   "file_extension": ".py",
   "mimetype": "text/x-python",
   "name": "python",
   "nbconvert_exporter": "python",
   "pygments_lexer": "ipython3",
   "version": "3.6.7"
  }
 },
 "nbformat": 4,
 "nbformat_minor": 2
}
