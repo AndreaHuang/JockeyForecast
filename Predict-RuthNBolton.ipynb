{
 "cells": [
  {
   "cell_type": "code",
   "execution_count": 18,
   "metadata": {},
   "outputs": [],
   "source": [
    "import pandas as pd\n",
    "import numpy as np\n",
    "from sklearn.compose import ColumnTransformer\n",
    "from sklearn.pipeline import Pipeline\n",
    "from sklearn.impute import SimpleImputer\n",
    "from sklearn.preprocessing import StandardScaler, OneHotEncoder\n",
    "from sklearn.linear_model import LinearRegression\n",
    "from sklearn.model_selection import train_test_split\n",
    "import statsmodels.formula.api as sm\n",
    "from sklearn.metrics import mean_squared_error,r2_score,explained_variance_score\n",
    "from datetime import date\n",
    "import matplotlib.pyplot as plt\n",
    "import mysql.connector\n",
    "\n",
    "mydb = mysql.connector.connect(\n",
    "  host=\"localhost\",\n",
    "  user=\"root\",\n",
    "  passwd=\"p0o9i8u7\",\n",
    "  database=\"jockey\"\n",
    ")\n",
    "\n",
    "features=['draw','addedWeight','declaredHorseWeight','horse_winPer',\n",
    "                 'horse_winCount','jockey_winPer','jockey_winCount','horse_newDistance','horse_newHorse',\n",
    "         'horse_last4SpeedRate','horse_latestSpeedRate','Days_from_lastRace']\n",
    "target=['finishTime']\n",
    "file0 = \"/Users/apple/Workspace/intelliJ/jockey/history.csv\"\n",
    "\n",
    "#file1 = \"/Users/apple/Workspace/intelliJ/jockey/predict.csv\"\n",
    "#tableName=\"newrace\"\n",
    "file1 = \"/Users/apple/Workspace/intelliJ/jockey/regress.csv\"\n",
    "tableName=\"racecard\"\n",
    "\n",
    "dataset0 = pd.read_csv(file0)\n",
    "dataset1 = pd.read_csv(file1)"
   ]
  },
  {
   "cell_type": "code",
   "execution_count": 20,
   "metadata": {},
   "outputs": [
    {
     "name": "stdout",
     "output_type": "stream",
     "text": [
      "20190130\n",
      "1 1200 5\n",
      "1\n",
      "1  record(s) updated 1 , V414\n",
      "2\n",
      "1  record(s) updated 1 , V302\n",
      "3\n"
     ]
    },
    {
     "name": "stderr",
     "output_type": "stream",
     "text": [
      "/Users/apple/miniconda3/lib/python3.6/site-packages/ipykernel_launcher.py:10: UserWarning: Boolean Series key will be reindexed to match DataFrame index.\n",
      "  # Remove the CWD from sys.path while we load stuff.\n"
     ]
    },
    {
     "name": "stdout",
     "output_type": "stream",
     "text": [
      "1  record(s) updated 1 , T256\n",
      "4\n",
      "1  record(s) updated 1 , A059\n",
      "5\n",
      "1  record(s) updated 1 , A255\n",
      "6\n",
      "1  record(s) updated 1 , S254\n",
      "7\n",
      "1  record(s) updated 1 , A151\n",
      "8\n",
      "1  record(s) updated 1 , V074\n",
      "9\n",
      "1  record(s) updated 1 , A348\n",
      "10\n",
      "1  record(s) updated 1 , A281\n",
      "11\n",
      "1  record(s) updated 1 , B036\n",
      "12\n",
      "1  record(s) updated 1 , B382\n",
      "2 1200 4\n",
      "1\n",
      "1  record(s) updated 2 , A220\n",
      "2\n",
      "1  record(s) updated 2 , A266\n",
      "3\n",
      "1  record(s) updated 2 , T292\n",
      "4\n",
      "1  record(s) updated 2 , P429\n",
      "5\n",
      "1  record(s) updated 2 , A142\n",
      "6\n"
     ]
    },
    {
     "name": "stderr",
     "output_type": "stream",
     "text": [
      "/Users/apple/miniconda3/lib/python3.6/site-packages/ipykernel_launcher.py:10: UserWarning: Boolean Series key will be reindexed to match DataFrame index.\n",
      "  # Remove the CWD from sys.path while we load stuff.\n"
     ]
    },
    {
     "name": "stdout",
     "output_type": "stream",
     "text": [
      "1  record(s) updated 2 , S442\n",
      "7\n",
      "1  record(s) updated 2 , V255\n",
      "8\n",
      "1  record(s) updated 2 , B428\n",
      "9\n",
      "1  record(s) updated 2 , B155\n",
      "10\n",
      "1  record(s) updated 2 , C134\n",
      "11\n",
      "1  record(s) updated 2 , V401\n",
      "12\n",
      "1  record(s) updated 2 , T392\n",
      "3 1650 4\n",
      "1\n"
     ]
    },
    {
     "name": "stderr",
     "output_type": "stream",
     "text": [
      "/Users/apple/miniconda3/lib/python3.6/site-packages/ipykernel_launcher.py:10: UserWarning: Boolean Series key will be reindexed to match DataFrame index.\n",
      "  # Remove the CWD from sys.path while we load stuff.\n"
     ]
    },
    {
     "name": "stdout",
     "output_type": "stream",
     "text": [
      "1  record(s) updated 3 , A411\n",
      "2\n",
      "1  record(s) updated 3 , A320\n",
      "3\n",
      "1  record(s) updated 3 , V232\n",
      "4\n",
      "1  record(s) updated 3 , B003\n",
      "5\n",
      "1  record(s) updated 3 , T236\n",
      "6\n",
      "1  record(s) updated 3 , A120\n",
      "7\n",
      "1  record(s) updated 3 , A204\n",
      "8\n",
      "1  record(s) updated 3 , B395\n",
      "9\n",
      "1  record(s) updated 3 , S447\n",
      "10\n",
      "1  record(s) updated 3 , B439\n",
      "4 1200 4\n",
      "1\n",
      "1  record(s) updated 4 , A251\n",
      "2\n",
      "1  record(s) updated 4 , A291\n",
      "3\n",
      "1  record(s) updated 4 , C061\n",
      "4\n",
      "1  record(s) updated 4 , A336\n",
      "5\n",
      "1  record(s) updated 4 , B462\n",
      "6\n"
     ]
    },
    {
     "name": "stderr",
     "output_type": "stream",
     "text": [
      "/Users/apple/miniconda3/lib/python3.6/site-packages/ipykernel_launcher.py:10: UserWarning: Boolean Series key will be reindexed to match DataFrame index.\n",
      "  # Remove the CWD from sys.path while we load stuff.\n"
     ]
    },
    {
     "name": "stdout",
     "output_type": "stream",
     "text": [
      "1  record(s) updated 4 , C012\n",
      "7\n",
      "1  record(s) updated 4 , T207\n",
      "8\n",
      "1  record(s) updated 4 , B247\n",
      "9\n",
      "1  record(s) updated 4 , V286\n",
      "10\n",
      "1  record(s) updated 4 , A052\n",
      "11\n",
      "1  record(s) updated 4 , B445\n",
      "12\n",
      "1  record(s) updated 4 , V348\n",
      "5 1650 3\n",
      "1\n"
     ]
    },
    {
     "name": "stderr",
     "output_type": "stream",
     "text": [
      "/Users/apple/miniconda3/lib/python3.6/site-packages/ipykernel_launcher.py:10: UserWarning: Boolean Series key will be reindexed to match DataFrame index.\n",
      "  # Remove the CWD from sys.path while we load stuff.\n"
     ]
    },
    {
     "name": "stdout",
     "output_type": "stream",
     "text": [
      "1  record(s) updated 5 , A224\n",
      "2\n",
      "1  record(s) updated 5 , B456\n",
      "3\n",
      "1  record(s) updated 5 , B421\n",
      "4\n",
      "1  record(s) updated 5 , A164\n",
      "5\n",
      "1  record(s) updated 5 , A137\n",
      "6\n",
      "1  record(s) updated 5 , B109\n",
      "7\n",
      "1  record(s) updated 5 , V114\n",
      "8\n",
      "1  record(s) updated 5 , T402\n",
      "9\n",
      "1  record(s) updated 5 , T355\n",
      "10\n",
      "1  record(s) updated 5 , S093\n",
      "11\n",
      "1  record(s) updated 5 , B302\n",
      "12\n",
      "1  record(s) updated 5 , T062\n",
      "6 1800 2\n",
      "1\n",
      "1  record(s) updated 6 , B355\n",
      "2\n",
      "1  record(s) updated 6 , A165\n",
      "3\n"
     ]
    },
    {
     "name": "stderr",
     "output_type": "stream",
     "text": [
      "/Users/apple/miniconda3/lib/python3.6/site-packages/ipykernel_launcher.py:10: UserWarning: Boolean Series key will be reindexed to match DataFrame index.\n",
      "  # Remove the CWD from sys.path while we load stuff.\n"
     ]
    },
    {
     "name": "stdout",
     "output_type": "stream",
     "text": [
      "1  record(s) updated 6 , A134\n",
      "4\n",
      "1  record(s) updated 6 , A402\n",
      "5\n",
      "1  record(s) updated 6 , B210\n",
      "6\n",
      "1  record(s) updated 6 , B208\n",
      "7\n",
      "1  record(s) updated 6 , V020\n",
      "8\n",
      "1  record(s) updated 6 , T230\n",
      "9\n",
      "1  record(s) updated 6 , S298\n",
      "7 1000 3\n",
      "1\n"
     ]
    },
    {
     "name": "stderr",
     "output_type": "stream",
     "text": [
      "/Users/apple/miniconda3/lib/python3.6/site-packages/ipykernel_launcher.py:10: UserWarning: Boolean Series key will be reindexed to match DataFrame index.\n",
      "  # Remove the CWD from sys.path while we load stuff.\n"
     ]
    },
    {
     "name": "stdout",
     "output_type": "stream",
     "text": [
      "1  record(s) updated 7 , B343\n",
      "2\n",
      "1  record(s) updated 7 , B230\n",
      "3\n",
      "1  record(s) updated 7 , B178\n",
      "4\n",
      "1  record(s) updated 7 , B001\n",
      "5\n",
      "1  record(s) updated 7 , B199\n",
      "6\n",
      "1  record(s) updated 7 , A022\n",
      "7\n",
      "1  record(s) updated 7 , A064\n",
      "8\n",
      "1  record(s) updated 7 , C059\n",
      "9\n",
      "1  record(s) updated 7 , V138\n",
      "10\n",
      "1  record(s) updated 7 , B305\n",
      "11\n",
      "1  record(s) updated 7 , A381\n",
      "12\n",
      "1  record(s) updated 7 , B204\n",
      "8 1200 2\n",
      "1\n",
      "0  record(s) updated 8 , B396\n",
      "2\n",
      "0  record(s) updated 8 , V310\n",
      "3\n"
     ]
    },
    {
     "name": "stderr",
     "output_type": "stream",
     "text": [
      "/Users/apple/miniconda3/lib/python3.6/site-packages/ipykernel_launcher.py:10: UserWarning: Boolean Series key will be reindexed to match DataFrame index.\n",
      "  # Remove the CWD from sys.path while we load stuff.\n"
     ]
    },
    {
     "name": "stdout",
     "output_type": "stream",
     "text": [
      "0  record(s) updated 8 , B243\n",
      "4\n",
      "0  record(s) updated 8 , A372\n",
      "5\n",
      "0  record(s) updated 8 , A418\n",
      "6\n",
      "0  record(s) updated 8 , T273\n",
      "7\n",
      "0  record(s) updated 8 , B089\n",
      "8\n",
      "0  record(s) updated 8 , T005\n",
      "9\n",
      "0  record(s) updated 8 , V057\n",
      "10\n",
      "0  record(s) updated 8 , A157\n",
      "11\n",
      "0  record(s) updated 8 , A124\n",
      "20190202\n",
      "1 1000 5\n"
     ]
    },
    {
     "name": "stderr",
     "output_type": "stream",
     "text": [
      "/Users/apple/miniconda3/lib/python3.6/site-packages/ipykernel_launcher.py:10: UserWarning: Boolean Series key will be reindexed to match DataFrame index.\n",
      "  # Remove the CWD from sys.path while we load stuff.\n"
     ]
    },
    {
     "name": "stdout",
     "output_type": "stream",
     "text": [
      "1\n",
      "0  record(s) updated 1 , A107\n",
      "2\n",
      "1  record(s) updated 1 , A082\n",
      "3\n",
      "1  record(s) updated 1 , T073\n",
      "4\n",
      "1  record(s) updated 1 , V086\n",
      "5\n",
      "1  record(s) updated 1 , B134\n",
      "6\n",
      "1  record(s) updated 1 , V107\n",
      "7\n",
      "1  record(s) updated 1 , B296\n",
      "8\n",
      "1  record(s) updated 1 , B036\n",
      "9\n",
      "1  record(s) updated 1 , B136\n",
      "10\n",
      "1  record(s) updated 1 , B275\n",
      "2 1800 5\n",
      "1\n",
      "0  record(s) updated 2 , A273\n",
      "2\n"
     ]
    },
    {
     "name": "stderr",
     "output_type": "stream",
     "text": [
      "/Users/apple/miniconda3/lib/python3.6/site-packages/ipykernel_launcher.py:10: UserWarning: Boolean Series key will be reindexed to match DataFrame index.\n",
      "  # Remove the CWD from sys.path while we load stuff.\n"
     ]
    },
    {
     "name": "stdout",
     "output_type": "stream",
     "text": [
      "1  record(s) updated 2 , V326\n",
      "3\n",
      "1  record(s) updated 2 , A272\n",
      "4\n",
      "1  record(s) updated 2 , T298\n",
      "5\n",
      "1  record(s) updated 2 , A053\n",
      "6\n",
      "1  record(s) updated 2 , B150\n",
      "7\n",
      "1  record(s) updated 2 , B255\n",
      "8\n",
      "1  record(s) updated 2 , T113\n",
      "9\n",
      "1  record(s) updated 2 , A174\n",
      "10\n",
      "1  record(s) updated 2 , A329\n",
      "11\n",
      "1  record(s) updated 2 , A186\n",
      "12\n",
      "1  record(s) updated 2 , S205\n",
      "13\n",
      "1  record(s) updated 2 , V202\n",
      "3 1000 4\n",
      "1\n",
      "1  record(s) updated 3 , C067\n",
      "2\n",
      "1  record(s) updated 3 , C229\n",
      "3\n",
      "1 "
     ]
    },
    {
     "name": "stderr",
     "output_type": "stream",
     "text": [
      "/Users/apple/miniconda3/lib/python3.6/site-packages/ipykernel_launcher.py:10: UserWarning: Boolean Series key will be reindexed to match DataFrame index.\n",
      "  # Remove the CWD from sys.path while we load stuff.\n"
     ]
    },
    {
     "name": "stdout",
     "output_type": "stream",
     "text": [
      " record(s) updated 3 , B274\n",
      "4\n",
      "1  record(s) updated 3 , C190\n",
      "5\n",
      "1  record(s) updated 3 , B365\n",
      "6\n",
      "1  record(s) updated 3 , B313\n",
      "7\n",
      "1  record(s) updated 3 , T129\n",
      "8\n",
      "1  record(s) updated 3 , B071\n",
      "9\n",
      "1  record(s) updated 3 , C133\n",
      "10\n",
      "1  record(s) updated 3 , A130\n",
      "11\n",
      "1  record(s) updated 3 , B464\n",
      "12\n",
      "1  record(s) updated 3 , C005\n",
      "13\n",
      "1  record(s) updated 3 , V123\n",
      "14\n",
      "1  record(s) updated 3 , A303\n",
      "4 1200 4\n",
      "1\n",
      "1  record(s) updated 4 , C022\n",
      "2\n",
      "1  record(s) updated 4 , A301\n",
      "3\n"
     ]
    },
    {
     "name": "stderr",
     "output_type": "stream",
     "text": [
      "/Users/apple/miniconda3/lib/python3.6/site-packages/ipykernel_launcher.py:10: UserWarning: Boolean Series key will be reindexed to match DataFrame index.\n",
      "  # Remove the CWD from sys.path while we load stuff.\n"
     ]
    },
    {
     "name": "stdout",
     "output_type": "stream",
     "text": [
      "1  record(s) updated 4 , C109\n",
      "4\n",
      "1  record(s) updated 4 , B185\n",
      "5\n",
      "1  record(s) updated 4 , C015\n",
      "6\n",
      "1  record(s) updated 4 , C064\n",
      "7\n",
      "1  record(s) updated 4 , C026\n",
      "8\n",
      "1  record(s) updated 4 , C224\n",
      "9\n",
      "1  record(s) updated 4 , C100\n",
      "10\n",
      "1  record(s) updated 4 , C036\n",
      "11\n",
      "1  record(s) updated 4 , B443\n",
      "5 1400 4\n",
      "1\n",
      "1  record(s) updated 5 , C062\n",
      "2\n",
      "1  record(s) updated 5 , A123\n",
      "3\n",
      "1  record(s) updated 5 , T055\n",
      "4\n",
      "1  record(s) updated 5 , C089\n",
      "5\n"
     ]
    },
    {
     "name": "stderr",
     "output_type": "stream",
     "text": [
      "/Users/apple/miniconda3/lib/python3.6/site-packages/ipykernel_launcher.py:10: UserWarning: Boolean Series key will be reindexed to match DataFrame index.\n",
      "  # Remove the CWD from sys.path while we load stuff.\n"
     ]
    },
    {
     "name": "stdout",
     "output_type": "stream",
     "text": [
      "1  record(s) updated 5 , B299\n",
      "6\n",
      "1  record(s) updated 5 , V119\n",
      "7\n",
      "1  record(s) updated 5 , B079\n",
      "8\n",
      "1  record(s) updated 5 , T178\n",
      "9\n",
      "1  record(s) updated 5 , B187\n",
      "10\n",
      "1  record(s) updated 5 , B115\n",
      "11\n",
      "1  record(s) updated 5 , C127\n",
      "12\n",
      "1  record(s) updated 5 , C106\n",
      "13\n",
      "1  record(s) updated 5 , B345\n",
      "14\n",
      "1  record(s) updated 5 , B482\n",
      "6 1650 4\n",
      "1\n",
      "1  record(s) updated 6 , S131\n",
      "2\n",
      "1  record(s) updated 6 , S418\n",
      "3\n",
      "1  record(s) updated 6 , A222\n",
      "4\n"
     ]
    },
    {
     "name": "stderr",
     "output_type": "stream",
     "text": [
      "/Users/apple/miniconda3/lib/python3.6/site-packages/ipykernel_launcher.py:10: UserWarning: Boolean Series key will be reindexed to match DataFrame index.\n",
      "  # Remove the CWD from sys.path while we load stuff.\n"
     ]
    },
    {
     "name": "stdout",
     "output_type": "stream",
     "text": [
      "1  record(s) updated 6 , V156\n",
      "5\n",
      "1  record(s) updated 6 , V042\n",
      "6\n",
      "1  record(s) updated 6 , A131\n",
      "7\n",
      "1  record(s) updated 6 , S414\n",
      "8\n",
      "1  record(s) updated 6 , B364\n",
      "9\n",
      "1  record(s) updated 6 , B353\n",
      "10\n",
      "1  record(s) updated 6 , T112\n",
      "11\n",
      "1  record(s) updated 6 , V368\n",
      "12\n",
      "1  record(s) updated 6 , B146\n",
      "7 1200 3\n",
      "1\n",
      "1  record(s) updated 7 , C028\n",
      "2\n",
      "1  record(s) updated 7 , B253\n",
      "3\n",
      "1  record(s) updated 7 , V150\n",
      "4\n",
      "1  record(s) updated 7 , A383\n",
      "5\n",
      "1  record(s) updated 7 , B183\n",
      "6\n",
      "1  record(s) updated 7 , B211\n",
      "7\n",
      "1  record(s) updated 7 , B468\n",
      "8\n"
     ]
    },
    {
     "name": "stderr",
     "output_type": "stream",
     "text": [
      "/Users/apple/miniconda3/lib/python3.6/site-packages/ipykernel_launcher.py:10: UserWarning: Boolean Series key will be reindexed to match DataFrame index.\n",
      "  # Remove the CWD from sys.path while we load stuff.\n"
     ]
    },
    {
     "name": "stdout",
     "output_type": "stream",
     "text": [
      "1  record(s) updated 7 , B057\n",
      "9\n",
      "1  record(s) updated 7 , C002\n",
      "10\n",
      "1  record(s) updated 7 , B309\n",
      "11\n",
      "1  record(s) updated 7 , A187\n",
      "12\n",
      "1  record(s) updated 7 , C212\n",
      "9 1800 3\n",
      "1\n",
      "0  record(s) updated 9 , B094\n",
      "2\n",
      "0  record(s) updated 9 , C084\n",
      "3\n",
      "0  record(s) updated 9 , B189\n",
      "4\n",
      "0  record(s) updated 9 , C080\n",
      "5\n"
     ]
    },
    {
     "name": "stderr",
     "output_type": "stream",
     "text": [
      "/Users/apple/miniconda3/lib/python3.6/site-packages/ipykernel_launcher.py:10: UserWarning: Boolean Series key will be reindexed to match DataFrame index.\n",
      "  # Remove the CWD from sys.path while we load stuff.\n"
     ]
    },
    {
     "name": "stdout",
     "output_type": "stream",
     "text": [
      "0  record(s) updated 9 , B350\n",
      "6\n",
      "0  record(s) updated 9 , T098\n",
      "7\n",
      "0  record(s) updated 9 , C049\n",
      "8\n",
      "0  record(s) updated 9 , A172\n",
      "9\n",
      "0  record(s) updated 9 , B336\n",
      "10\n",
      "0  record(s) updated 9 , B268\n",
      "11\n",
      "0  record(s) updated 9 , T281\n",
      "10 1600 2\n",
      "1\n",
      "0  record(s) updated 10 , B387\n",
      "2\n"
     ]
    },
    {
     "name": "stderr",
     "output_type": "stream",
     "text": [
      "/Users/apple/miniconda3/lib/python3.6/site-packages/ipykernel_launcher.py:10: UserWarning: Boolean Series key will be reindexed to match DataFrame index.\n",
      "  # Remove the CWD from sys.path while we load stuff.\n"
     ]
    },
    {
     "name": "stdout",
     "output_type": "stream",
     "text": [
      "0  record(s) updated 10 , B105\n",
      "3\n",
      "0  record(s) updated 10 , T375\n",
      "4\n",
      "0  record(s) updated 10 , B457\n",
      "5\n",
      "0  record(s) updated 10 , C114\n",
      "6\n",
      "0  record(s) updated 10 , T262\n",
      "7\n",
      "0  record(s) updated 10 , C146\n",
      "8\n",
      "0  record(s) updated 10 , A367\n",
      "9\n",
      "0  record(s) updated 10 , V118\n",
      "10\n",
      "0  record(s) updated 10 , C071\n",
      "11\n",
      "0  record(s) updated 10 , B351\n",
      "12\n",
      "0  record(s) updated 10 , C197\n",
      "13\n",
      "0  record(s) updated 10 , A098\n"
     ]
    }
   ],
   "source": [
    "allDates = dataset1.rateDate.unique()\n",
    "allDates.sort()\n",
    "for raceDate in allDates:\n",
    "    #if(raceDate <20180218):\n",
    "    #     continue\n",
    "    print(raceDate)\n",
    "    dataset_ofADay = dataset1[(dataset1['rateDate']==raceDate)]\n",
    "    allSeqs = dataset_ofADay.raceSeqOfDate.unique()\n",
    "    for seq in allSeqs:\n",
    "        dataset_test =  dataset_ofADay[(dataset1['raceSeqOfDate']==seq)]\n",
    "        distance = dataset_test['distance'].iloc[0]\n",
    "        raceClass = dataset_test['raceClass'].iloc[0]\n",
    "        print(seq,distance,raceClass)\n",
    "        \n",
    "        dataset_train = dataset0[(dataset0['raceClass']==raceClass) & (dataset0['distance']==distance) \n",
    "                        & (dataset0['rateDate']!=raceDate)]\n",
    "        #dataset_train.shape\n",
    "        if(dataset_train.size==0):\n",
    "            continue\n",
    "        #regression model of lbw or finishTime\n",
    "        X_train=dataset_train[features]\n",
    "        y_train=dataset_train[target] #lbw\n",
    "\n",
    "        X_test=dataset_test[features]\n",
    "       \n",
    "\n",
    "\n",
    "        reg = LinearRegression()\n",
    "        reg.fit(X_train,y_train)\n",
    "        y_test_predicted=reg.predict(X_test)\n",
    "        \n",
    "        #plt.scatter(y_test, y_test_predicted,  color='black')\n",
    "        #plt.show()\n",
    "        #print(\"Mean squared error: %.2f\"\n",
    "        #      % mean_squared_error(y_test, y_test_predicted))\n",
    "        # Explained variance score: 1 is perfect prediction\n",
    "        #print('Variance score: %.2f' % r2_score(y_test, y_test_predicted))\n",
    "\n",
    "        #explained_variance_score(y_test, y_test_predicted)\n",
    "        df = pd.DataFrame(data=y_test_predicted, index=X_test.index,columns=['finishTime_predicted'])\n",
    "        dataset_test_toshow=dataset_test[['rateDate','raceSeqOfDate','distance','raceClass','horseId']]\n",
    "        dataset_test_withPredicted=dataset_test_toshow.merge(df,how='inner',left_index=True,right_index=True)\n",
    "        dataset_test_withPredicted = dataset_test_withPredicted.sort_values(['finishTime_predicted'])\n",
    "        #dataset_test_withPredicted\n",
    "\n",
    "        predicted_place=1\n",
    "        for index, row in dataset_test_withPredicted.iterrows():\n",
    "            mycursor = mydb.cursor()\n",
    "            raceDate_str = str(row['rateDate'])\n",
    "            raceSeqOfDate =str(row['raceSeqOfDate'])\n",
    "            horseId = str(row['horseId'])\n",
    "            finishTime_predicted =str(row['finishTime_predicted'])\n",
    "            ##print(\"Andrea:\",raceDate_str,raceSeqOfDate,horseId,finishTime_predicted)\n",
    "            sql = (\"UPDATE \"+tableName+ \" SET predicted_place=\"+ str(predicted_place) +\", predicted_finishTime = \"+ finishTime_predicted +\n",
    "            \" WHERE raceDate = \"+ raceDate_str + \" and raceSeqOfDay = \"+raceSeqOfDate + \" and horseId ='\"+horseId+ \"' \")\n",
    "            \n",
    "            print(predicted_place)\n",
    "            predicted_place =predicted_place+1\n",
    "            #print(sql)\n",
    "            mycursor.execute(sql)\n",
    "            mydb.commit()\n",
    "            print(mycursor.rowcount, \" record(s) updated\" ,row['raceSeqOfDate'] ,\",\", row['horseId'] )"
   ]
  },
  {
   "cell_type": "code",
   "execution_count": null,
   "metadata": {},
   "outputs": [],
   "source": []
  },
  {
   "cell_type": "code",
   "execution_count": null,
   "metadata": {},
   "outputs": [],
   "source": []
  }
 ],
 "metadata": {
  "kernelspec": {
   "display_name": "Python 3",
   "language": "python",
   "name": "python3"
  },
  "language_info": {
   "codemirror_mode": {
    "name": "ipython",
    "version": 3
   },
   "file_extension": ".py",
   "mimetype": "text/x-python",
   "name": "python",
   "nbconvert_exporter": "python",
   "pygments_lexer": "ipython3",
   "version": "3.6.7"
  }
 },
 "nbformat": 4,
 "nbformat_minor": 2
}
